{
 "cells": [
  {
   "cell_type": "code",
   "execution_count": 25,
   "metadata": {},
   "outputs": [],
   "source": [
    "# Provides ways to work with large multidimensional arrays\n",
    "import numpy as np \n",
    "# Allows for further data manipulation and analysis\n",
    "import pandas as pd\n",
    "from pandas_datareader import data as web # Reads stock data \n",
    "import matplotlib.pyplot as plt # Plotting\n",
    "import matplotlib.dates as mdates # Styling dates\n",
    "%matplotlib inline\n",
    "\n",
    "import datetime as dt # For defining dates\n",
    "import mplfinance as mpf # Matplotlib finance\n",
    "\n",
    "import time\n",
    "\n",
    "# Used to get data from a directory\n",
    "import os\n",
    "from os import listdir\n",
    "from os.path import isfile, join"
   ]
  },
  {
   "cell_type": "markdown",
   "metadata": {},
   "source": [
    "## Default Values"
   ]
  },
  {
   "cell_type": "code",
   "execution_count": 26,
   "metadata": {},
   "outputs": [],
   "source": [
    "# Define path to files\n",
    "path = \"C:\\\\Users\\\\Asus\\\\Documents\\\\Python for Finance\\\\Python\"\n",
    "\n",
    "# Start date defaults\n",
    "S_YEAR = 2019\n",
    "S_MONTH = 1\n",
    "S_DAY = 1\n",
    "S_DATE_STR = f\"{S_YEAR}-{S_MONTH}-{S_DAY}\"\n",
    "S_DATE_DATETIME = dt.datetime(S_YEAR, S_MONTH, S_DAY)\n",
    "\n",
    "# End date defaults\n",
    "E_YEAR = 2023\n",
    "E_MONTH = 6\n",
    "E_DAY = 30\n",
    "E_DATE_STR = f\"{E_YEAR}-{E_MONTH}-{E_DAY}\"\n",
    "E_DATE_DATETIME = dt.datetime(E_YEAR, E_MONTH, E_DAY)"
   ]
  },
  {
   "cell_type": "markdown",
   "metadata": {},
   "source": [
    "## Get Stock File Names in a List"
   ]
  },
  {
   "cell_type": "code",
   "execution_count": 27,
   "metadata": {},
   "outputs": [
    {
     "data": {
      "text/plain": [
       "['AAPL',\n",
       " 'ABNB',\n",
       " 'ADBE',\n",
       " 'ADI',\n",
       " 'ADP',\n",
       " 'ADSK',\n",
       " 'ALGN',\n",
       " 'AMAT',\n",
       " 'AMGN',\n",
       " 'AMZN',\n",
       " 'ANSS',\n",
       " 'ASML',\n",
       " 'ATVI',\n",
       " 'AZN',\n",
       " 'BKNG',\n",
       " 'BKR',\n",
       " 'CHTR',\n",
       " 'CMCSA',\n",
       " 'COOP',\n",
       " 'COST',\n",
       " 'CPRT',\n",
       " 'CRWD',\n",
       " 'CSGP',\n",
       " 'CSX',\n",
       " 'CTAS',\n",
       " 'CTSH',\n",
       " 'DDOG',\n",
       " 'DLTR',\n",
       " 'DXCM',\n",
       " 'EA',\n",
       " 'EBAY',\n",
       " 'ENPH',\n",
       " 'EXC',\n",
       " 'FANG',\n",
       " 'FAST',\n",
       " 'FTNT',\n",
       " 'GILD',\n",
       " 'GLDI',\n",
       " 'GOOG',\n",
       " 'GOOGL',\n",
       " 'HON',\n",
       " 'IDXX',\n",
       " 'ILMN',\n",
       " 'INTC',\n",
       " 'INTU',\n",
       " 'ISRG',\n",
       " 'JD',\n",
       " 'KDP',\n",
       " 'KHC',\n",
       " 'KLAC',\n",
       " 'LCID',\n",
       " 'LRCX',\n",
       " 'LULU',\n",
       " 'MAR',\n",
       " 'MCHP',\n",
       " 'MDLZ',\n",
       " 'MELI',\n",
       " 'META',\n",
       " 'MRNA',\n",
       " 'MRVL',\n",
       " 'MSFT',\n",
       " 'MSTR',\n",
       " 'MU',\n",
       " 'NFLX',\n",
       " 'NVDA',\n",
       " 'NXPI',\n",
       " 'ODFL',\n",
       " 'ORLY',\n",
       " 'PANW',\n",
       " 'PAYX',\n",
       " 'PCAR',\n",
       " 'PDD',\n",
       " 'PEP',\n",
       " 'QCOM',\n",
       " 'REGN',\n",
       " 'ROST',\n",
       " 'SBUX',\n",
       " 'SGEN',\n",
       " 'SIRI',\n",
       " 'SNPS',\n",
       " 'SPLK',\n",
       " 'TEAM',\n",
       " 'TMUS',\n",
       " 'TSLA',\n",
       " 'TXN',\n",
       " 'VRSK',\n",
       " 'VRTX',\n",
       " 'WBA',\n",
       " 'WBD',\n",
       " 'WDAY',\n",
       " 'WDC',\n",
       " 'XEL',\n",
       " 'ZM',\n",
       " 'ZS']"
      ]
     },
     "execution_count": 27,
     "metadata": {},
     "output_type": "execute_result"
    }
   ],
   "source": [
    "# listdir returns all files in the directory and isfile will return true\n",
    "# if it is a file and then we store its name in our list named files\n",
    "files = [x for x in listdir(path) if isfile(join(path, x))]\n",
    "\n",
    "# Remove extension from file names\n",
    "# Splitext splits the file name into 2 parts being the name and extension\n",
    "# We say get all file names and then store just the name in our list named files\n",
    "tickers = [os.path.splitext(x)[0] for x in files]\n",
    "tickers\n"
   ]
  },
  {
   "cell_type": "markdown",
   "metadata": {},
   "source": [
    "## Create a Dataframe from our List"
   ]
  },
  {
   "cell_type": "code",
   "execution_count": 28,
   "metadata": {},
   "outputs": [
    {
     "data": {
      "text/html": [
       "<div>\n",
       "<style scoped>\n",
       "    .dataframe tbody tr th:only-of-type {\n",
       "        vertical-align: middle;\n",
       "    }\n",
       "\n",
       "    .dataframe tbody tr th {\n",
       "        vertical-align: top;\n",
       "    }\n",
       "\n",
       "    .dataframe thead th {\n",
       "        text-align: right;\n",
       "    }\n",
       "</style>\n",
       "<table border=\"1\" class=\"dataframe\">\n",
       "  <thead>\n",
       "    <tr style=\"text-align: right;\">\n",
       "      <th></th>\n",
       "      <th>Ticker</th>\n",
       "    </tr>\n",
       "  </thead>\n",
       "  <tbody>\n",
       "    <tr>\n",
       "      <th>0</th>\n",
       "      <td>AAPL</td>\n",
       "    </tr>\n",
       "    <tr>\n",
       "      <th>1</th>\n",
       "      <td>ABNB</td>\n",
       "    </tr>\n",
       "    <tr>\n",
       "      <th>2</th>\n",
       "      <td>ADBE</td>\n",
       "    </tr>\n",
       "    <tr>\n",
       "      <th>3</th>\n",
       "      <td>ADI</td>\n",
       "    </tr>\n",
       "    <tr>\n",
       "      <th>4</th>\n",
       "      <td>ADP</td>\n",
       "    </tr>\n",
       "    <tr>\n",
       "      <th>...</th>\n",
       "      <td>...</td>\n",
       "    </tr>\n",
       "    <tr>\n",
       "      <th>89</th>\n",
       "      <td>WDAY</td>\n",
       "    </tr>\n",
       "    <tr>\n",
       "      <th>90</th>\n",
       "      <td>WDC</td>\n",
       "    </tr>\n",
       "    <tr>\n",
       "      <th>91</th>\n",
       "      <td>XEL</td>\n",
       "    </tr>\n",
       "    <tr>\n",
       "      <th>92</th>\n",
       "      <td>ZM</td>\n",
       "    </tr>\n",
       "    <tr>\n",
       "      <th>93</th>\n",
       "      <td>ZS</td>\n",
       "    </tr>\n",
       "  </tbody>\n",
       "</table>\n",
       "<p>94 rows × 1 columns</p>\n",
       "</div>"
      ],
      "text/plain": [
       "   Ticker\n",
       "0    AAPL\n",
       "1    ABNB\n",
       "2    ADBE\n",
       "3     ADI\n",
       "4     ADP\n",
       "..    ...\n",
       "89   WDAY\n",
       "90    WDC\n",
       "91    XEL\n",
       "92     ZM\n",
       "93     ZS\n",
       "\n",
       "[94 rows x 1 columns]"
      ]
     },
     "execution_count": 28,
     "metadata": {},
     "output_type": "execute_result"
    }
   ],
   "source": [
    "stock_df = pd.DataFrame(tickers,columns=['Ticker'])\n",
    "stock_df"
   ]
  },
  {
   "cell_type": "markdown",
   "metadata": {},
   "source": [
    "## Function that Returns a Dataframe from a CSV"
   ]
  },
  {
   "cell_type": "code",
   "execution_count": 29,
   "metadata": {},
   "outputs": [],
   "source": [
    "# Reads a dataframe from the CSV file, changes index to date and returns it\n",
    "def get_df_from_csv(ticker):\n",
    "    \n",
    "    # Try to get the file and if it doesn't exist issue a warning\n",
    "    try:\n",
    "        df = pd.read_csv(\"C:\\\\Users\\\\Asus\\\\Documents\\\\Python for Finance\\\\Python\\\\\" + ticker + '.csv')\n",
    "    except FileNotFoundError:\n",
    "        print(\"File Doesn't Exist\")\n",
    "    else:\n",
    "        return df"
   ]
  },
  {
   "cell_type": "markdown",
   "metadata": {},
   "source": [
    "## Function that Saves Dataframe to CSV"
   ]
  },
  {
   "cell_type": "code",
   "execution_count": 30,
   "metadata": {},
   "outputs": [],
   "source": [
    "def save_dataframe_to_csv(df, ticker):\n",
    "    df.to_csv(path + ticker + '.csv')\n"
   ]
  },
  {
   "cell_type": "markdown",
   "metadata": {},
   "source": [
    "## Delete Unnamed Columns in CSV Files"
   ]
  },
  {
   "cell_type": "code",
   "execution_count": 31,
   "metadata": {},
   "outputs": [],
   "source": [
    "def delete_unnamed_cols(df):\n",
    "    df = df.loc[:, ~df.columns.str.contains('^Unnamed')]\n",
    "    return df"
   ]
  },
  {
   "cell_type": "markdown",
   "metadata": {},
   "source": [
    "## Add Daily Return to Dataframe"
   ]
  },
  {
   "cell_type": "code",
   "execution_count": 32,
   "metadata": {},
   "outputs": [],
   "source": [
    "# We calculate a percentage rate of return for each day to compare investments.\n",
    "# Simple Rate of Return = (End Price - Beginning Price) / Beginning Price OR (EP / BP) - 1\n",
    "\n",
    "# Shift provides the value from the previous day\n",
    "# NaN is displayed because there was no previous day price for the 1st calculation\n",
    "def add_daily_return_to_df(df, ticker):\n",
    "    df['daily_return'] = (df['Adj Close'] / df['Adj Close'].shift(1)) - 1\n",
    "    # Save data to a CSV file\n",
    "    df.to_csv(path + ticker + '.csv')\n",
    "    return df\n"
   ]
  },
  {
   "cell_type": "markdown",
   "metadata": {},
   "source": [
    "## Returns Return on Investment over Time"
   ]
  },
  {
   "cell_type": "code",
   "execution_count": 33,
   "metadata": {},
   "outputs": [],
   "source": [
    "# Return on Investment is the return you received from your investment\n",
    "# This amount does not include your initial investment\n",
    "# If you invest 100 and have 200 after 5 years\n",
    "# ROI = End Value (200) - Initial Value (100) / Inital Value = 1\n",
    "# Your new total is Inital Investment + 1 * Inital Investment = 200\n",
    "\n",
    "def get_roi_defined_time(df):\n",
    "    # Set as a datetime\n",
    "    df['Date'] = pd.to_datetime(df['Date'])\n",
    "    if 'Date' in df.columns:\n",
    "        mask = df['Date'] == S_DATE_STR\n",
    "        if mask.any():\n",
    "            start_val = df.loc[mask, 'Adj Close'].values[0]\n",
    "        else:\n",
    "            # Handle the case when no rows match the date condition\n",
    "            start_val = None  # or any default value you prefer\n",
    "    else:\n",
    "        # Handle the case when 'Date' column does not exist in the DataFrame\n",
    "        start_val = None  # or any default value you prefer\n",
    "\n",
    "    print(\"Initial Price :\", start_val)\n",
    "        \n",
    "    end_val = df[df['Date'] == E_DATE_STR]['Adj Close']\n",
    "    print(end_val.item())\n",
    "    print(\"Final Price :\", end_val.item())\n",
    "        \n",
    "    # Calculate return on investment\n",
    "    roi = (end_val - start_val) / start_val\n",
    "    \n",
    "    # Return the total return between 2 dates\n",
    "    return roi\n"
   ]
  },
  {
   "cell_type": "markdown",
   "metadata": {},
   "source": [
    "## Get Coefficient of Variation"
   ]
  },
  {
   "cell_type": "code",
   "execution_count": 34,
   "metadata": {},
   "outputs": [],
   "source": [
    "# Receives the dataframe with the Adj Close data and returns the coefficient of variation\n",
    "def get_cov(stock_df):\n",
    "    mean = stock_df['Adj Close'].mean()\n",
    "    sd = stock_df['Adj Close'].std()\n",
    "    cov = sd / mean\n",
    "    return cov"
   ]
  },
  {
   "cell_type": "markdown",
   "metadata": {},
   "source": [
    "## Test Functions"
   ]
  },
  {
   "cell_type": "code",
   "execution_count": 35,
   "metadata": {},
   "outputs": [],
   "source": [
    "# Create a backup for all original stock data\n",
    "\n",
    "# Get our 1st ticker\n",
    "tickers[0]\n",
    "\n",
    "# Get a dataframe for that ticker\n",
    "stock_a = get_df_from_csv(tickers[0])\n",
    "stock_a\n",
    "\n",
    "# Add daily return to this dataframe\n",
    "add_daily_return_to_df(stock_a, tickers[0])\n",
    "\n",
    "# Delete unnamed columns in dataframe\n",
    "stock_a = delete_unnamed_cols(stock_a)\n",
    "stock_a\n",
    "\n",
    "# Save cleaned dataframe to csv\n",
    "save_dataframe_to_csv(stock_a, tickers[0])"
   ]
  },
  {
   "cell_type": "markdown",
   "metadata": {},
   "source": [
    "## Add Daily Returns & Clean Up All Files"
   ]
  },
  {
   "cell_type": "code",
   "execution_count": 36,
   "metadata": {},
   "outputs": [
    {
     "name": "stdout",
     "output_type": "stream",
     "text": [
      "Working on : AAPL\n",
      "Working on : ABNB\n",
      "Working on : ADBE\n",
      "Working on : ADI\n",
      "Working on : ADP\n",
      "Working on : ADSK\n",
      "Working on : ALGN\n",
      "Working on : AMAT\n",
      "Working on : AMGN\n",
      "Working on : AMZN\n",
      "Working on : ANSS\n",
      "Working on : ASML\n",
      "Working on : ATVI\n",
      "Working on : AZN\n",
      "Working on : BKNG\n",
      "Working on : BKR\n",
      "Working on : CHTR\n",
      "Working on : CMCSA\n",
      "Working on : COOP\n",
      "Working on : COST\n",
      "Working on : CPRT\n",
      "Working on : CRWD\n",
      "Working on : CSGP\n",
      "Working on : CSX\n",
      "Working on : CTAS\n",
      "Working on : CTSH\n",
      "Working on : DDOG\n",
      "Working on : DLTR\n",
      "Working on : DXCM\n",
      "Working on : EA\n",
      "Working on : EBAY\n",
      "Working on : ENPH\n",
      "Working on : EXC\n",
      "Working on : FANG\n",
      "Working on : FAST\n",
      "Working on : FTNT\n",
      "Working on : GILD\n",
      "Working on : GLDI\n",
      "Working on : GOOG\n",
      "Working on : GOOGL\n",
      "Working on : HON\n",
      "Working on : IDXX\n",
      "Working on : ILMN\n",
      "Working on : INTC\n",
      "Working on : INTU\n",
      "Working on : ISRG\n",
      "Working on : JD\n",
      "Working on : KDP\n",
      "Working on : KHC\n",
      "Working on : KLAC\n",
      "Working on : LCID\n",
      "Working on : LRCX\n",
      "Working on : LULU\n",
      "Working on : MAR\n",
      "Working on : MCHP\n",
      "Working on : MDLZ\n",
      "Working on : MELI\n",
      "Working on : META\n",
      "Working on : MRNA\n",
      "Working on : MRVL\n",
      "Working on : MSFT\n",
      "Working on : MSTR\n",
      "Working on : MU\n",
      "Working on : NFLX\n",
      "Working on : NVDA\n",
      "Working on : NXPI\n",
      "Working on : ODFL\n",
      "Working on : ORLY\n",
      "Working on : PANW\n",
      "Working on : PAYX\n",
      "Working on : PCAR\n",
      "Working on : PDD\n",
      "Working on : PEP\n",
      "Working on : QCOM\n",
      "Working on : REGN\n",
      "Working on : ROST\n",
      "Working on : SBUX\n",
      "Working on : SGEN\n",
      "Working on : SIRI\n",
      "Working on : SNPS\n",
      "Working on : SPLK\n",
      "Working on : TEAM\n",
      "Working on : TMUS\n",
      "Working on : TSLA\n",
      "Working on : TXN\n",
      "Working on : VRSK\n",
      "Working on : VRTX\n",
      "Working on : WBA\n",
      "Working on : WBD\n",
      "Working on : WDAY\n",
      "Working on : WDC\n",
      "Working on : XEL\n",
      "Working on : ZM\n",
      "Working on : ZS\n"
     ]
    }
   ],
   "source": [
    "# Create a backup for all original stock data\n",
    "\n",
    "# Cycle through all tickers\n",
    "for ticker in tickers:\n",
    "    print(\"Working on :\", ticker)\n",
    "    \n",
    "    # Get a dataframe for that ticker\n",
    "    stock_df = get_df_from_csv(ticker)\n",
    "    \n",
    "    # Add daily return to this dataframe\n",
    "    add_daily_return_to_df(stock_df, ticker)\n",
    "    \n",
    "    # Delete unnamed columns in dataframe\n",
    "    stock_df = delete_unnamed_cols(stock_df)\n",
    "    \n",
    "    # Save cleaned dataframe to csv\n",
    "    save_dataframe_to_csv(stock_df, ticker)"
   ]
  },
  {
   "cell_type": "markdown",
   "metadata": {},
   "source": []
  },
  {
   "cell_type": "code",
   "execution_count": null,
   "metadata": {},
   "outputs": [],
   "source": []
  },
  {
   "cell_type": "code",
   "execution_count": null,
   "metadata": {},
   "outputs": [],
   "source": []
  },
  {
   "cell_type": "code",
   "execution_count": null,
   "metadata": {},
   "outputs": [],
   "source": []
  }
 ],
 "metadata": {
  "kernelspec": {
   "display_name": "Python 3 (ipykernel)",
   "language": "python",
   "name": "python3"
  },
  "language_info": {
   "codemirror_mode": {
    "name": "ipython",
    "version": 3
   },
   "file_extension": ".py",
   "mimetype": "text/x-python",
   "name": "python",
   "nbconvert_exporter": "python",
   "pygments_lexer": "ipython3",
   "version": "3.10.2"
  }
 },
 "nbformat": 4,
 "nbformat_minor": 4
}
